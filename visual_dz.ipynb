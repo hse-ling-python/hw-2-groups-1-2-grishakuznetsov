{
 "cells": [
  {
   "cell_type": "markdown",
   "metadata": {},
   "source": [
    "# Data frame"
   ]
  },
  {
   "cell_type": "code",
   "execution_count": 1,
   "metadata": {},
   "outputs": [
    {
     "name": "stderr",
     "output_type": "stream",
     "text": [
      "[nltk_data] Downloading package punkt to\n",
      "[nltk_data]     C:\\Users\\Гриша\\AppData\\Roaming\\nltk_data...\n",
      "[nltk_data]   Package punkt is already up-to-date!\n"
     ]
    }
   ],
   "source": [
    "import json\n",
    "import pandas as pd\n",
    "from string import punctuation\n",
    "from pymorphy2 import MorphAnalyzer\n",
    "import nltk\n",
    "from collections import Counter\n",
    "from nltk.tokenize import word_tokenize\n",
    "from nltk.draw import dispersion_plot\n",
    "nltk.download('punkt')\n",
    "morph = MorphAnalyzer()\n",
    "import matplotlib.pyplot as plt\n",
    "%matplotlib inline\n",
    "import seaborn as sns\n",
    "import random\n",
    "random.seed = 23\n",
    "\n"
   ]
  },
  {
   "cell_type": "code",
   "execution_count": 2,
   "metadata": {},
   "outputs": [
    {
     "name": "stdout",
     "output_type": "stream",
     "text": [
      "Wall time: 573 ms\n"
     ]
    }
   ],
   "source": [
    "with open('book.txt', 'r', encoding='utf-8') as f:\n",
    "    booktext = f.read()\n",
    "for i in punctuation:\n",
    "    booktext = booktext.replace(i, '')\n",
    "%time tokens = (word_tokenize(booktext))"
   ]
  },
  {
   "cell_type": "markdown",
   "metadata": {},
   "source": [
    "# Тут у меня исправления моих ошибок в предыдущем задании\n",
    "Заново делаю морф.парс, чтобы сделать нормальную таблицу по тегам для датафрейма. Делаю массив для каждого параметра"
   ]
  },
  {
   "cell_type": "code",
   "execution_count": 3,
   "metadata": {},
   "outputs": [],
   "source": [
    "words_d = {}\n",
    "word_forms = []\n",
    "normal_forms = []\n",
    "tags = []\n",
    "POSs = []\n",
    "cases = []\n",
    "numbers = []\n",
    "genders = []\n",
    "anims = []\n",
    "aspects = []\n",
    "invols = []\n",
    "moods = []\n",
    "persons = []\n",
    "tenses = []\n",
    "trans = []\n",
    "voices = []\n",
    "\n",
    "for token in tokens:\n",
    "    annotation = morph.parse(token)\n",
    "    parse = annotation[0]\n",
    "    tag = parse.tag\n",
    "    pos = tag.POS\n",
    "    tagstr = str(tag)\n",
    "    tagstr = tagstr.split(',')\n",
    "    word_forms.append(parse.word)\n",
    "    normal_forms.append(parse.normal_form)\n",
    "    tags.append(tagstr)\n",
    "    POSs.append(tag.POS)\n",
    "    cases.append(tag.case)\n",
    "    numbers.append(tag.number)\n",
    "    genders.append(tag.gender)\n",
    "    anims.append(tag.animacy)\n",
    "    aspects.append(tag.aspect)\n",
    "    invols.append(tag.involvement)\n",
    "    moods.append(tag.mood)\n",
    "    persons.append(tag.person)\n",
    "    tenses.append(tag.tense)\n",
    "    trans.append(tag.transitivity)\n",
    "    voices.append(tag.voice)\n",
    "    \n",
    "words_d['word_form'] = word_forms\n",
    "words_d['normal_form'] = normal_forms\n",
    "words_d['tags'] = tags\n",
    "words_d['POS'] = POSs\n",
    "words_d['case'] = cases\n",
    "words_d['number'] = numbers\n",
    "words_d['gender'] = genders\n",
    "words_d['animacy'] = anims\n",
    "words_d['aspect'] = aspects\n",
    "words_d['involvement'] = invols\n",
    "words_d['mood'] = moods\n",
    "words_d['person'] = persons\n",
    "words_d['tense'] = tenses\n",
    "words_d['transitivity'] = trans\n",
    "words_d['voice'] = voices"
   ]
  },
  {
   "cell_type": "markdown",
   "metadata": {},
   "source": [
    "# Выгружаю в папку с программой новый файл специально для датафрейма"
   ]
  },
  {
   "cell_type": "code",
   "execution_count": 4,
   "metadata": {},
   "outputs": [],
   "source": [
    "with open('tags_table.json', 'w', encoding='utf-8') as f:\n",
    "    json.dump(words_d, f, ensure_ascii=False)"
   ]
  },
  {
   "cell_type": "markdown",
   "metadata": {},
   "source": [
    "# Датафрейм\n",
    "Делаю датафрейм и сохраняю файлом .csv"
   ]
  },
  {
   "cell_type": "code",
   "execution_count": 5,
   "metadata": {
    "scrolled": true
   },
   "outputs": [],
   "source": [
    "import pandas as pd\n",
    "data_frame = pd.DataFrame(words_d)\n",
    "\n",
    "data_frame.to_csv('v_mironov.csv', sep='\\t', index=False)"
   ]
  },
  {
   "cell_type": "markdown",
   "metadata": {},
   "source": [
    "## Загрузка\n",
    "Загружаю датафрейм из созданного фалйа"
   ]
  },
  {
   "cell_type": "code",
   "execution_count": 6,
   "metadata": {},
   "outputs": [
    {
     "data": {
      "text/html": [
       "<div>\n",
       "<style scoped>\n",
       "    .dataframe tbody tr th:only-of-type {\n",
       "        vertical-align: middle;\n",
       "    }\n",
       "\n",
       "    .dataframe tbody tr th {\n",
       "        vertical-align: top;\n",
       "    }\n",
       "\n",
       "    .dataframe thead th {\n",
       "        text-align: right;\n",
       "    }\n",
       "</style>\n",
       "<table border=\"1\" class=\"dataframe\">\n",
       "  <thead>\n",
       "    <tr style=\"text-align: right;\">\n",
       "      <th></th>\n",
       "      <th>word_form</th>\n",
       "      <th>normal_form</th>\n",
       "      <th>tags</th>\n",
       "      <th>POS</th>\n",
       "      <th>case</th>\n",
       "      <th>number</th>\n",
       "      <th>gender</th>\n",
       "      <th>animacy</th>\n",
       "      <th>aspect</th>\n",
       "      <th>involvement</th>\n",
       "      <th>mood</th>\n",
       "      <th>person</th>\n",
       "      <th>tense</th>\n",
       "      <th>transitivity</th>\n",
       "      <th>voice</th>\n",
       "    </tr>\n",
       "  </thead>\n",
       "  <tbody>\n",
       "    <tr>\n",
       "      <td>0</td>\n",
       "      <td>аннотация</td>\n",
       "      <td>аннотация</td>\n",
       "      <td>['NOUN', 'inan', 'femn sing', 'nomn']</td>\n",
       "      <td>NOUN</td>\n",
       "      <td>nomn</td>\n",
       "      <td>sing</td>\n",
       "      <td>femn</td>\n",
       "      <td>inan</td>\n",
       "      <td></td>\n",
       "      <td></td>\n",
       "      <td></td>\n",
       "      <td></td>\n",
       "      <td></td>\n",
       "      <td></td>\n",
       "      <td></td>\n",
       "    </tr>\n",
       "    <tr>\n",
       "      <td>1</td>\n",
       "      <td>роман</td>\n",
       "      <td>роман</td>\n",
       "      <td>['NOUN', 'anim', 'masc', 'Name sing', 'nomn']</td>\n",
       "      <td>NOUN</td>\n",
       "      <td>nomn</td>\n",
       "      <td>sing</td>\n",
       "      <td>masc</td>\n",
       "      <td>anim</td>\n",
       "      <td></td>\n",
       "      <td></td>\n",
       "      <td></td>\n",
       "      <td></td>\n",
       "      <td></td>\n",
       "      <td></td>\n",
       "      <td></td>\n",
       "    </tr>\n",
       "    <tr>\n",
       "      <td>2</td>\n",
       "      <td>вячеслава</td>\n",
       "      <td>вячеслав</td>\n",
       "      <td>['NOUN', 'anim', 'masc', 'Name sing', 'gent']</td>\n",
       "      <td>NOUN</td>\n",
       "      <td>gent</td>\n",
       "      <td>sing</td>\n",
       "      <td>masc</td>\n",
       "      <td>anim</td>\n",
       "      <td></td>\n",
       "      <td></td>\n",
       "      <td></td>\n",
       "      <td></td>\n",
       "      <td></td>\n",
       "      <td></td>\n",
       "      <td></td>\n",
       "    </tr>\n",
       "    <tr>\n",
       "      <td>3</td>\n",
       "      <td>миронова</td>\n",
       "      <td>миронов</td>\n",
       "      <td>['NOUN', 'anim', 'masc', 'Sgtm', 'Surn sing', ...</td>\n",
       "      <td>NOUN</td>\n",
       "      <td>gent</td>\n",
       "      <td>sing</td>\n",
       "      <td>masc</td>\n",
       "      <td>anim</td>\n",
       "      <td></td>\n",
       "      <td></td>\n",
       "      <td></td>\n",
       "      <td></td>\n",
       "      <td></td>\n",
       "      <td></td>\n",
       "      <td></td>\n",
       "    </tr>\n",
       "    <tr>\n",
       "      <td>4</td>\n",
       "      <td>я</td>\n",
       "      <td>я</td>\n",
       "      <td>['NPRO', '1per sing', 'nomn']</td>\n",
       "      <td>NPRO</td>\n",
       "      <td>nomn</td>\n",
       "      <td>sing</td>\n",
       "      <td></td>\n",
       "      <td></td>\n",
       "      <td></td>\n",
       "      <td></td>\n",
       "      <td></td>\n",
       "      <td>1per</td>\n",
       "      <td></td>\n",
       "      <td></td>\n",
       "      <td></td>\n",
       "    </tr>\n",
       "    <tr>\n",
       "      <td>5</td>\n",
       "      <td>был</td>\n",
       "      <td>быть</td>\n",
       "      <td>['VERB', 'impf', 'intr masc', 'sing', 'past', ...</td>\n",
       "      <td>VERB</td>\n",
       "      <td></td>\n",
       "      <td>sing</td>\n",
       "      <td>masc</td>\n",
       "      <td></td>\n",
       "      <td>impf</td>\n",
       "      <td></td>\n",
       "      <td>indc</td>\n",
       "      <td></td>\n",
       "      <td>past</td>\n",
       "      <td>intr</td>\n",
       "      <td></td>\n",
       "    </tr>\n",
       "    <tr>\n",
       "      <td>6</td>\n",
       "      <td>на</td>\n",
       "      <td>на</td>\n",
       "      <td>['PREP']</td>\n",
       "      <td>PREP</td>\n",
       "      <td></td>\n",
       "      <td></td>\n",
       "      <td></td>\n",
       "      <td></td>\n",
       "      <td></td>\n",
       "      <td></td>\n",
       "      <td></td>\n",
       "      <td></td>\n",
       "      <td></td>\n",
       "      <td></td>\n",
       "      <td></td>\n",
       "    </tr>\n",
       "    <tr>\n",
       "      <td>7</td>\n",
       "      <td>этой</td>\n",
       "      <td>этот</td>\n",
       "      <td>['ADJF', 'Apro', 'Subx', 'Anph femn', 'sing', ...</td>\n",
       "      <td>ADJF</td>\n",
       "      <td>gent</td>\n",
       "      <td>sing</td>\n",
       "      <td>femn</td>\n",
       "      <td></td>\n",
       "      <td></td>\n",
       "      <td></td>\n",
       "      <td></td>\n",
       "      <td></td>\n",
       "      <td></td>\n",
       "      <td></td>\n",
       "      <td></td>\n",
       "    </tr>\n",
       "    <tr>\n",
       "      <td>8</td>\n",
       "      <td>войне</td>\n",
       "      <td>война</td>\n",
       "      <td>['NOUN', 'inan', 'femn sing', 'loct']</td>\n",
       "      <td>NOUN</td>\n",
       "      <td>loct</td>\n",
       "      <td>sing</td>\n",
       "      <td>femn</td>\n",
       "      <td>inan</td>\n",
       "      <td></td>\n",
       "      <td></td>\n",
       "      <td></td>\n",
       "      <td></td>\n",
       "      <td></td>\n",
       "      <td></td>\n",
       "      <td></td>\n",
       "    </tr>\n",
       "    <tr>\n",
       "      <td>9</td>\n",
       "      <td>действие</td>\n",
       "      <td>действие</td>\n",
       "      <td>['NOUN', 'inan', 'neut sing', 'nomn']</td>\n",
       "      <td>NOUN</td>\n",
       "      <td>nomn</td>\n",
       "      <td>sing</td>\n",
       "      <td>neut</td>\n",
       "      <td>inan</td>\n",
       "      <td></td>\n",
       "      <td></td>\n",
       "      <td></td>\n",
       "      <td></td>\n",
       "      <td></td>\n",
       "      <td></td>\n",
       "      <td></td>\n",
       "    </tr>\n",
       "  </tbody>\n",
       "</table>\n",
       "</div>"
      ],
      "text/plain": [
       "   word_form normal_form                                               tags  \\\n",
       "0  аннотация   аннотация              ['NOUN', 'inan', 'femn sing', 'nomn']   \n",
       "1      роман       роман      ['NOUN', 'anim', 'masc', 'Name sing', 'nomn']   \n",
       "2  вячеслава    вячеслав      ['NOUN', 'anim', 'masc', 'Name sing', 'gent']   \n",
       "3   миронова     миронов  ['NOUN', 'anim', 'masc', 'Sgtm', 'Surn sing', ...   \n",
       "4          я           я                      ['NPRO', '1per sing', 'nomn']   \n",
       "5        был        быть  ['VERB', 'impf', 'intr masc', 'sing', 'past', ...   \n",
       "6         на          на                                           ['PREP']   \n",
       "7       этой        этот  ['ADJF', 'Apro', 'Subx', 'Anph femn', 'sing', ...   \n",
       "8      войне       война              ['NOUN', 'inan', 'femn sing', 'loct']   \n",
       "9   действие    действие              ['NOUN', 'inan', 'neut sing', 'nomn']   \n",
       "\n",
       "    POS  case number gender animacy aspect involvement  mood person tense  \\\n",
       "0  NOUN  nomn   sing   femn    inan                                         \n",
       "1  NOUN  nomn   sing   masc    anim                                         \n",
       "2  NOUN  gent   sing   masc    anim                                         \n",
       "3  NOUN  gent   sing   masc    anim                                         \n",
       "4  NPRO  nomn   sing                                           1per         \n",
       "5  VERB         sing   masc           impf              indc         past   \n",
       "6  PREP                                                                     \n",
       "7  ADJF  gent   sing   femn                                                 \n",
       "8  NOUN  loct   sing   femn    inan                                         \n",
       "9  NOUN  nomn   sing   neut    inan                                         \n",
       "\n",
       "  transitivity voice  \n",
       "0                     \n",
       "1                     \n",
       "2                     \n",
       "3                     \n",
       "4                     \n",
       "5         intr        \n",
       "6                     \n",
       "7                     \n",
       "8                     \n",
       "9                     "
      ]
     },
     "execution_count": 6,
     "metadata": {},
     "output_type": "execute_result"
    }
   ],
   "source": [
    "mironov = pd.read_csv('v_mironov.csv', sep='\\t').fillna('')\n",
    "mironov.head(10)"
   ]
  },
  {
   "cell_type": "markdown",
   "metadata": {},
   "source": [
    "# Три(четыре) графика из семинара\n",
    "Сделал на всякий случай побольше\n",
    "Код из семинара с моими датафреймами на основе книжных данных"
   ]
  },
  {
   "cell_type": "code",
   "execution_count": 23,
   "metadata": {},
   "outputs": [
    {
     "data": {
      "image/png": "[encoded data removed]",
      "text/plain": [
       "<Figure size 432x288 with 1 Axes>"
      ]
     },
     "metadata": {
      "needs_background": "light"
     },
     "output_type": "display_data"
    }
   ],
   "source": [
    "mironov['gender'].value_counts().plot.barh(\n",
    "color='green');\n",
    "plt.title('Gender')\n",
    "plt.xlabel('gender')\n",
    "plt.ylabel('number of entries');"
   ]
  },
  {
   "cell_type": "code",
   "execution_count": 8,
   "metadata": {},
   "outputs": [
    {
     "data": {
      "text/plain": [
       "Text(0, 0.5, 'number of entries')"
      ]
     },
     "execution_count": 8,
     "metadata": {},
     "output_type": "execute_result"
    },
    {
     "data": {
      "image/png": "[encoded data removed]",
      "text/plain": [
       "<Figure size 432x288 with 1 Axes>"
      ]
     },
     "metadata": {
      "needs_background": "light"
     },
     "output_type": "display_data"
    }
   ],
   "source": [
    "df2 = mironov[\n",
    "    (mironov['gender'] != '') & (mironov['gender'] != 'мж')\n",
    "][\n",
    "    ['POS', 'gender', 'number']\n",
    "].groupby(['POS', 'gender'], as_index=False).count()\n",
    "df2.columns = ['POS', 'gender', 'total']\n",
    "sns.barplot(x=\"POS\", y=\"total\", hue='gender', data=df2)\n",
    "plt.title('Gender by POS')\n",
    "plt.xlabel('POS')\n",
    "plt.ylabel('number of entries')\n"
   ]
  },
  {
   "cell_type": "markdown",
   "metadata": {},
   "source": [
    "Сделал кружок побольше для наглядности. Распределение рода только среди слов, у которых есть род"
   ]
  },
  {
   "cell_type": "code",
   "execution_count": 15,
   "metadata": {},
   "outputs": [
    {
     "data": {
      "image/png": "[encoded data removed]",
      "text/plain": [
       "<Figure size 720x720 with 1 Axes>"
      ]
     },
     "metadata": {},
     "output_type": "display_data"
    }
   ],
   "source": [
    "plt.figure(figsize=(10, 10))\n",
    "mironov[(mironov['gender'] != '')]['gender'\n",
    "].value_counts().plot(kind='pie');\n",
    "plt.title('Total gender');"
   ]
  },
  {
   "cell_type": "markdown",
   "metadata": {},
   "source": [
    "## Гистограмма\n",
    "Я немного изменил гистограмму и сделал длинну словоформ. Для этого удобнее гистограмма."
   ]
  },
  {
   "cell_type": "code",
   "execution_count": 19,
   "metadata": {},
   "outputs": [
    {
     "data": {
      "image/png": "[encoded data removed]",
      "text/plain": [
       "<Figure size 1080x360 with 1 Axes>"
      ]
     },
     "metadata": {
      "needs_background": "light"
     },
     "output_type": "display_data"
    }
   ],
   "source": [
    "lendf = mironov[['normal_form', 'POS', 'gender']\n",
    "].groupby(['normal_form', 'POS'], as_index=False).count()\n",
    "lendf.columns = ['normal_form', 'POS', 'total']\n",
    "lendf = lendf[lendf['total'] > 10]\n",
    "\n",
    "lendf['length'] = mironov['word_form'].apply(len)\n",
    "plt.figure(figsize=(15, 5))\n",
    "sns.distplot(lendf['length'], bins=20, color='green')\n",
    "plt.title('Distribution of word form length')\n",
    "plt.ylabel('%')\n",
    "plt.xlabel('Length of word form');"
   ]
  },
  {
   "cell_type": "markdown",
   "metadata": {},
   "source": [
    "# Мои графики\n",
    "К сожалению, возникла нерешаемая проблема с wordcloud, поэтому я не смог его сделать :("
   ]
  },
  {
   "cell_type": "markdown",
   "metadata": {},
   "source": [
    "## Самый частотный глагол\n",
    "Я взял самый частотный глагол (быть) и сделал столбчатую диаграмму. На ней показано в каком времени чаще всего встречается глагол быть"
   ]
  },
  {
   "cell_type": "code",
   "execution_count": 21,
   "metadata": {
    "scrolled": true
   },
   "outputs": [
    {
     "data": {
      "image/png": "[encoded data removed]",
      "text/plain": [
       "<Figure size 864x360 with 1 Axes>"
      ]
     },
     "metadata": {
      "needs_background": "light"
     },
     "output_type": "display_data"
    }
   ],
   "source": [
    "plt.figure(figsize=(12, 5))\n",
    "mcverb = mironov[mironov['normal_form'] == 'быть'][\n",
    "'tense'].value_counts().plot.barh(color='green');\n",
    "plt.title('\"Быть\" tenses');\n",
    "plt.ylabel('tense')\n",
    "plt.xlabel('number of entries');"
   ]
  },
  {
   "cell_type": "markdown",
   "metadata": {},
   "source": [
    "## Круговая диаграмма\n",
    "КРуговая диаграмма показывает распределение рода среди прилагательных в единственном числе. У меня есть количество каждого рода, поэтому круговая диаграмма представит все нагляднее\n"
   ]
  },
  {
   "cell_type": "code",
   "execution_count": 17,
   "metadata": {},
   "outputs": [
    {
     "data": {
      "image/png": "[encoded data removed]",
      "text/plain": [
       "<Figure size 504x504 with 1 Axes>"
      ]
     },
     "metadata": {},
     "output_type": "display_data"
    }
   ],
   "source": [
    "plt.figure(figsize=(7, 7))\n",
    "mironov[(mironov['POS'] == 'ADJF') & (\n",
    "mironov['number'] == 'sing')\n",
    "]['gender'].value_counts().plot(kind='pie');\n",
    "plt.title('Gender of adjectives');"
   ]
  },
  {
   "cell_type": "markdown",
   "metadata": {},
   "source": [
    "## Еще одна стобчатая диаграмма\n",
    "Тут я придумал показать распределение лица у глаголов в будущем и прошедшем времени (в прошедшем его ведь нет)\n",
    "Сгруппировал параметры и вывел в строенные столбы. По Х у меня отложено время, по Y количество вхождений, разноцветные столбики показывают лицо. С помощью такой столбчатой диаграммы можно увидеть количество вхождений глагола определенного лица в каждом из времен, поэтому я выбрал этот тип"
   ]
  },
  {
   "cell_type": "code",
   "execution_count": 13,
   "metadata": {},
   "outputs": [
    {
     "data": {
      "image/png": "[encoded data removed]",
      "text/plain": [
       "<Figure size 432x288 with 1 Axes>"
      ]
     },
     "metadata": {
      "needs_background": "light"
     },
     "output_type": "display_data"
    }
   ],
   "source": [
    "verbdf = mironov[\n",
    "    (mironov['POS'] == 'VERB') & (mironov['person'] != '')\n",
    "][\n",
    "    ['person', 'tense', 'number']\n",
    "].groupby(['person', 'tense'], as_index=False).count()\n",
    "verbdf.columns = ['person', 'tense', 'total']\n",
    "sns.barplot(x='tense', y=\"total\", hue='person', data=verbdf)\n",
    "plt.title('Person by tense')\n",
    "plt.xlabel('tense')\n",
    "plt.ylabel('number of entries');"
   ]
  },
  {
   "cell_type": "markdown",
   "metadata": {},
   "source": [
    "## Dispersion plot\n",
    "В начале задания для датафрейма я делал массив лексем, но здесь я все равно достаю normal_forms из датасета. Делаю их массивом, а затем перевожу в формат nltk\n",
    "Имена (names) обработало не совсем правильно, туда попадали лишние слова. Пришлось отобрать имена основных персонажей вручную.\n",
    "В тексте книги часто одних и тех же персонажей называют по-разному (сергей-серега), поэтому я поставил их друг под другом.\n",
    "Далее пользуюсь функцией из документации и получаю график\n"
   ]
  },
  {
   "cell_type": "code",
   "execution_count": 14,
   "metadata": {},
   "outputs": [
    {
     "data": {
      "image/png": "[encoded data removed]",
      "text/plain": [
       "<Figure size 432x288 with 1 Axes>"
      ]
     },
     "metadata": {
      "needs_background": "light"
     },
     "output_type": "display_data"
    }
   ],
   "source": [
    "nltk_normal = nltk.Text(list(mironov['normal_form']))\n",
    "names = ['вячеслав', 'юрий', 'юра', 'константин', 'костя', \n",
    "'серега', 'сергей', 'павел', 'паша', 'грабба', 'женя',\n",
    "'женька', 'саша', 'сашка',\n",
    "'шамиль', 'игорь', 'олег',\n",
    "'ваня', 'абрам', 'ислам']\n",
    "nltk_normal.dispersion_plot(names)\n"
   ]
  }
 ],
 "metadata": {
  "kernelspec": {
   "display_name": "Python 3",
   "language": "python",
   "name": "python3"
  },
  "language_info": {
   "codemirror_mode": {
    "name": "ipython",
    "version": 3
   },
   "file_extension": ".py",
   "mimetype": "text/x-python",
   "name": "python",
   "nbconvert_exporter": "python",
   "pygments_lexer": "ipython3",
   "version": "3.7.4"
  }
 },
 "nbformat": 4,
 "nbformat_minor": 2
}
